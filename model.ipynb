{
 "cells": [
  {
   "cell_type": "code",
   "execution_count": 3,
   "id": "f204086a",
   "metadata": {},
   "outputs": [],
   "source": [
    "import seaborn as sns\n",
    "from math import sqrt\n",
    "import yfinance as yf\n",
    "import pandas as pd\n",
    "import numpy as np\n",
    "from sklearn.preprocessing import MinMaxScaler\n",
    "from tensorflow.keras.models import Sequential\n",
    "from tensorflow.keras.layers import LSTM, Dense, Dropout\n",
    "import matplotlib.pyplot as plt\n",
    "from sklearn.model_selection import train_test_split\n",
    "import tensorflow as tf\n",
    "from sklearn.metrics import mean_squared_error, mean_absolute_error\n",
    "import datetime\n",
    "import time\n",
    "from sklearn.impute import KNNImputer\n",
    "from tensorflow.keras.callbacks import EarlyStopping\n",
    "from tensorflow import keras"
   ]
  },
  {
   "cell_type": "code",
   "execution_count": 30,
   "id": "047647de",
   "metadata": {},
   "outputs": [],
   "source": [
    "class Model_LSTM:\n",
    "    def __init__(self, variables, start_date, look_back, target_index=0):\n",
    "        self.variables = variables\n",
    "        self.start_date = start_date\n",
    "        self.end_date = datetime.date.today()\n",
    "        self.look_back = look_back\n",
    "        self.target_index = target_index\n",
    "        self.model = None\n",
    "        self.n_features = len(variables)\n",
    "\n",
    "    def load_data(self):\n",
    "        end_date_str = self.end_date.strftime('%Y-%m-%d')\n",
    "        data_history = yf.download(self.variables, start=self.start_date, end=end_date_str)['Close']\n",
    "        return data_history\n",
    "    \n",
    "    def imputer_data(self, data_history):\n",
    "        imputer = KNNImputer(n_neighbors=2, weights=\"distance\")\n",
    "        data_unifor = imputer.fit_transform(data_history)\n",
    "        data = pd.DataFrame(data_unifor, columns=data_history.columns, index=data_history.index)\n",
    "        return data\n",
    "\n",
    "    def preprocess_data(self, data):\n",
    "        data_diff = np.log(data / data.shift(1))\n",
    "        data_diff = data_diff.dropna()\n",
    "        scaler = MinMaxScaler(feature_range=(0, 1))\n",
    "        data_scaled = scaler.fit_transform(data_diff.values)\n",
    "        return data_scaled, scaler\n",
    "\n",
    "    def create_dataset(self, dataset):\n",
    "        data_x, data_y = [], []\n",
    "        for i in range(self.look_back, len(dataset)):\n",
    "            data_x.append(dataset[i - self.look_back:i, :])\n",
    "            data_y.append(dataset[i, self.target_index])\n",
    "        return np.array(data_x), np.array(data_y)\n",
    "\n",
    "    def split_data(self, X, y, train_ratio=0.8):\n",
    "        train_size = int(len(X) * train_ratio)\n",
    "        X_train, X_test = X[:train_size], X[train_size:]\n",
    "        y_train, y_test = y[:train_size], y[train_size:]\n",
    "        return X_train, X_test, y_train, y_test\n",
    "\n",
    "    def build_model(self, units, dropout_rate, dense_units, learning_rate, activation):\n",
    "        model = Sequential()\n",
    "        model.add(LSTM(units, activation=activation, dropout=dropout_rate,\n",
    "                       recurrent_dropout=dropout_rate, input_shape=(self.look_back, self.n_features)))\n",
    "        model.add(Dropout(dropout_rate))\n",
    "        model.add(Dense(dense_units, activation=activation))\n",
    "        model.add(Dense(1))\n",
    "        optimizer = tf.keras.optimizers.Adam(learning_rate=learning_rate)\n",
    "        model.compile(loss='mean_squared_error', optimizer=optimizer)\n",
    "        self.model = model\n",
    "        return model\n",
    "\n",
    "    def train_model(self, X_train, y_train, X_val, y_val, epochs, batch_size):\n",
    "        callbacks = [keras.callbacks.EarlyStopping(monitor='val_loss', patience=10, restore_best_weights=True)]\n",
    "        history = self.model.fit(X_train, y_train,\n",
    "                                 validation_data=(X_val, y_val),\n",
    "                                 epochs=epochs, batch_size=batch_size,\n",
    "                                 callbacks=callbacks, verbose=2)\n",
    "        return history\n",
    "\n",
    "    def plot_training_history(self, history):\n",
    "        plt.plot(history.history['loss'], label='Train Loss')\n",
    "        plt.plot(history.history['val_loss'], label='Validation Loss')\n",
    "        plt.title('Model Training History')\n",
    "        plt.xlabel('Epochs')\n",
    "        plt.ylabel('Loss')\n",
    "        plt.legend()\n",
    "        plt.show()\n",
    "\n",
    "    def evaluate_model(self, X_test, y_test):\n",
    "        predictions = self.model.predict(X_test)\n",
    "        mae = sqrt(mean_absolute_error(y_test, predictions))\n",
    "        rmse = sqrt(mean_squared_error(y_test, predictions))\n",
    "        print(f\"Test MAE: {rmse:.4f}\")\n",
    "        print(f\"Test MAE: {mae:.4f}\")\n",
    "        return predictions, rmse\n",
    "\n",
    "    def save_model(self, path='lstm_model.h5'):\n",
    "        if self.model:\n",
    "            self.model.save(path)\n",
    "\n",
    "    def load_model(self, path='lstm_model.h5'):\n",
    "        self.model = tf.keras.models.load_model(path)"
   ]
  },
  {
   "cell_type": "code",
   "execution_count": 31,
   "id": "60ce595c",
   "metadata": {},
   "outputs": [],
   "source": [
    "model = Model_LSTM(variables=[ \"^GSPC\", \"^DJI\", \"^IXIC\", \"^RUT\", \"PL=F\",\n",
    "    \"EURUSD=X\", \"JPY=X\", \"CAD=X\", \"UUP\", \"^TNX\", \"^IRX\", \"TLT\",\n",
    "    \"CL=F\", \"GC=F\", \"BZ=F\", \"^GDAXI\", \"^FTSE\", \"^N225\",\n",
    "    \"XRT\", \"XLK\", \"XLF\", \"SI=F\", \"AUDUSD=X\", \"^N100\", \n",
    "    \"^IBEX\", \"^FCHI\", \"^HSI\", \"^TWII\", \"BTC-USD\"],\n",
    "                   start_date='2017-01-01',\n",
    "                   look_back=20,\n",
    "                   target_index=19)"
   ]
  },
  {
   "cell_type": "code",
   "execution_count": 32,
   "id": "b9d46bae",
   "metadata": {},
   "outputs": [
    {
     "name": "stderr",
     "output_type": "stream",
     "text": [
      "[*********************100%***********************]  29 of 29 completed\n"
     ]
    }
   ],
   "source": [
    "data = model.load_data()"
   ]
  },
  {
   "cell_type": "code",
   "execution_count": 33,
   "id": "f495c8a9",
   "metadata": {},
   "outputs": [
    {
     "name": "stderr",
     "output_type": "stream",
     "text": [
      "c:\\Users\\Lenovo\\AppData\\Local\\Programs\\Python\\Python39\\lib\\site-packages\\pandas\\core\\internals\\blocks.py:393: RuntimeWarning: invalid value encountered in log\n",
      "  result = func(self.values, **kwargs)\n"
     ]
    }
   ],
   "source": [
    "data_imputed = model.imputer_data(data)\n",
    "data_scaled, scaler = model.preprocess_data(data_imputed)\n",
    "X, y = model.create_dataset(data_scaled)\n",
    "X_train, X_test, y_train, y_test = model.split_data(X, y)"
   ]
  },
  {
   "cell_type": "code",
   "execution_count": 23,
   "id": "a49742c4",
   "metadata": {},
   "outputs": [
    {
     "name": "stdout",
     "output_type": "stream",
     "text": [
      "X_train shape: (2404, 20, 29)\n",
      "y_train shape: (2404,)\n",
      "y_train shape: (602, 20, 29)\n",
      "y_train shape: (602,)\n"
     ]
    }
   ],
   "source": [
    "print(f\"X_train shape: {X_train.shape}\")  # debería ser (n_samples, 24, n_features)\n",
    "print(f\"y_train shape: {y_train.shape}\")\n",
    "print(f\"y_train shape: {X_test.shape}\")\n",
    "print(f\"y_train shape: {y_test.shape}\")"
   ]
  },
  {
   "cell_type": "code",
   "execution_count": 34,
   "id": "0ec282a3",
   "metadata": {},
   "outputs": [],
   "source": [
    "units = 256\n",
    "dropout_rate = 0.2\n",
    "dense_units = 64\n",
    "learning_rate = 0.0019900608121585874\n",
    "activation = 'tanh'"
   ]
  },
  {
   "cell_type": "code",
   "execution_count": 35,
   "id": "9dae52c8",
   "metadata": {},
   "outputs": [
    {
     "name": "stderr",
     "output_type": "stream",
     "text": [
      "c:\\Users\\Lenovo\\AppData\\Local\\Programs\\Python\\Python39\\lib\\site-packages\\keras\\src\\layers\\rnn\\rnn.py:200: UserWarning: Do not pass an `input_shape`/`input_dim` argument to a layer. When using Sequential models, prefer using an `Input(shape)` object as the first layer in the model instead.\n",
      "  super().__init__(**kwargs)\n"
     ]
    }
   ],
   "source": [
    "modelo = model.build_model(units, dropout_rate, dense_units, learning_rate, activation)"
   ]
  },
  {
   "cell_type": "code",
   "execution_count": 36,
   "id": "63c57ae6",
   "metadata": {},
   "outputs": [
    {
     "name": "stdout",
     "output_type": "stream",
     "text": [
      "Epoch 1/40\n",
      "38/38 - 5s - 135ms/step - loss: 0.1122 - val_loss: 0.0075\n",
      "Epoch 2/40\n",
      "38/38 - 2s - 62ms/step - loss: 0.0089 - val_loss: 0.0054\n",
      "Epoch 3/40\n",
      "38/38 - 3s - 68ms/step - loss: 0.0086 - val_loss: 0.0054\n",
      "Epoch 4/40\n",
      "38/38 - 3s - 67ms/step - loss: 0.0078 - val_loss: 0.0054\n",
      "Epoch 5/40\n",
      "38/38 - 2s - 63ms/step - loss: 0.0075 - val_loss: 0.0053\n",
      "Epoch 6/40\n",
      "38/38 - 2s - 62ms/step - loss: 0.0075 - val_loss: 0.0057\n",
      "Epoch 7/40\n",
      "38/38 - 2s - 62ms/step - loss: 0.0071 - val_loss: 0.0052\n",
      "Epoch 8/40\n",
      "38/38 - 2s - 62ms/step - loss: 0.0068 - val_loss: 0.0058\n",
      "Epoch 9/40\n",
      "38/38 - 2s - 62ms/step - loss: 0.0070 - val_loss: 0.0053\n",
      "Epoch 10/40\n",
      "38/38 - 2s - 61ms/step - loss: 0.0066 - val_loss: 0.0052\n",
      "Epoch 11/40\n",
      "38/38 - 2s - 63ms/step - loss: 0.0062 - val_loss: 0.0052\n",
      "Epoch 12/40\n",
      "38/38 - 2s - 61ms/step - loss: 0.0065 - val_loss: 0.0051\n",
      "Epoch 13/40\n",
      "38/38 - 2s - 61ms/step - loss: 0.0064 - val_loss: 0.0054\n",
      "Epoch 14/40\n",
      "38/38 - 2s - 62ms/step - loss: 0.0063 - val_loss: 0.0056\n",
      "Epoch 15/40\n",
      "38/38 - 2s - 60ms/step - loss: 0.0061 - val_loss: 0.0050\n",
      "Epoch 16/40\n",
      "38/38 - 3s - 80ms/step - loss: 0.0060 - val_loss: 0.0052\n",
      "Epoch 17/40\n",
      "38/38 - 2s - 65ms/step - loss: 0.0060 - val_loss: 0.0051\n",
      "Epoch 18/40\n",
      "38/38 - 2s - 64ms/step - loss: 0.0061 - val_loss: 0.0058\n",
      "Epoch 19/40\n",
      "38/38 - 2s - 59ms/step - loss: 0.0064 - val_loss: 0.0051\n",
      "Epoch 20/40\n",
      "38/38 - 2s - 59ms/step - loss: 0.0059 - val_loss: 0.0053\n",
      "Epoch 21/40\n",
      "38/38 - 2s - 60ms/step - loss: 0.0059 - val_loss: 0.0054\n",
      "Epoch 22/40\n",
      "38/38 - 2s - 61ms/step - loss: 0.0060 - val_loss: 0.0050\n",
      "Epoch 23/40\n",
      "38/38 - 2s - 62ms/step - loss: 0.0059 - val_loss: 0.0050\n",
      "Epoch 24/40\n",
      "38/38 - 2s - 61ms/step - loss: 0.0058 - val_loss: 0.0053\n",
      "Epoch 25/40\n",
      "38/38 - 2s - 59ms/step - loss: 0.0057 - val_loss: 0.0050\n",
      "Epoch 26/40\n",
      "38/38 - 2s - 60ms/step - loss: 0.0060 - val_loss: 0.0050\n",
      "Epoch 27/40\n",
      "38/38 - 2s - 58ms/step - loss: 0.0059 - val_loss: 0.0051\n",
      "Epoch 28/40\n",
      "38/38 - 2s - 59ms/step - loss: 0.0060 - val_loss: 0.0050\n",
      "Epoch 29/40\n",
      "38/38 - 2s - 61ms/step - loss: 0.0058 - val_loss: 0.0050\n",
      "Epoch 30/40\n",
      "38/38 - 2s - 61ms/step - loss: 0.0058 - val_loss: 0.0049\n",
      "Epoch 31/40\n",
      "38/38 - 2s - 64ms/step - loss: 0.0057 - val_loss: 0.0051\n",
      "Epoch 32/40\n",
      "38/38 - 2s - 62ms/step - loss: 0.0057 - val_loss: 0.0052\n",
      "Epoch 33/40\n",
      "38/38 - 2s - 63ms/step - loss: 0.0059 - val_loss: 0.0049\n",
      "Epoch 34/40\n",
      "38/38 - 2s - 59ms/step - loss: 0.0057 - val_loss: 0.0049\n",
      "Epoch 35/40\n",
      "38/38 - 2s - 59ms/step - loss: 0.0059 - val_loss: 0.0048\n",
      "Epoch 36/40\n",
      "38/38 - 2s - 58ms/step - loss: 0.0057 - val_loss: 0.0052\n",
      "Epoch 37/40\n",
      "38/38 - 2s - 60ms/step - loss: 0.0057 - val_loss: 0.0049\n",
      "Epoch 38/40\n",
      "38/38 - 2s - 59ms/step - loss: 0.0056 - val_loss: 0.0048\n",
      "Epoch 39/40\n",
      "38/38 - 2s - 59ms/step - loss: 0.0057 - val_loss: 0.0049\n",
      "Epoch 40/40\n",
      "38/38 - 3s - 66ms/step - loss: 0.0056 - val_loss: 0.0049\n"
     ]
    }
   ],
   "source": [
    "history = model.train_model(X_train, y_train, X_val = X_test, y_val = y_test, epochs=40, batch_size=64)"
   ]
  },
  {
   "cell_type": "code",
   "execution_count": 37,
   "id": "5899f1b8",
   "metadata": {},
   "outputs": [
    {
     "data": {
      "image/png": "[encoded data removed]",
      "text/plain": [
       "<Figure size 640x480 with 1 Axes>"
      ]
     },
     "metadata": {},
     "output_type": "display_data"
    }
   ],
   "source": [
    "model.plot_training_history(history)"
   ]
  },
  {
   "cell_type": "code",
   "execution_count": 38,
   "id": "3f556df1",
   "metadata": {},
   "outputs": [
    {
     "name": "stdout",
     "output_type": "stream",
     "text": [
      "\u001b[1m19/19\u001b[0m \u001b[32m━━━━━━━━━━━━━━━━━━━━\u001b[0m\u001b[37m\u001b[0m \u001b[1m1s\u001b[0m 23ms/step\n",
      "Test MAE: 0.0693\n",
      "Test MAE: 0.1888\n"
     ]
    }
   ],
   "source": [
    "predictions = model.evaluate_model(X_test, y_test)"
   ]
  }
 ],
 "metadata": {
  "kernelspec": {
   "display_name": "Python 3",
   "language": "python",
   "name": "python3"
  },
  "language_info": {
   "codemirror_mode": {
    "name": "ipython",
    "version": 3
   },
   "file_extension": ".py",
   "mimetype": "text/x-python",
   "name": "python",
   "nbconvert_exporter": "python",
   "pygments_lexer": "ipython3",
   "version": "3.9.7"
  }
 },
 "nbformat": 4,
 "nbformat_minor": 5
}
